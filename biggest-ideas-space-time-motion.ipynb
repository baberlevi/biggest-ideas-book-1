{
 "cells": [
  {
   "cell_type": "markdown",
   "id": "ecb5cafe-d0e1-49a4-b983-97c9b1488570",
   "metadata": {},
   "source": [
    "# The Biggest Ideas in the Universe: space, time, and motion by Sean Carroll\n",
    "\n",
    "I recently read this book, which I really liked. I felt pretty good about my ability to follow the math in the first half of the book or so, but had a hard time following all of the notation as the book progressed. The concepts seemed to make sense, but the syntax was unfamiliar. So, I thought I'd try to follow through the equations in the book in a way that feels more familiar to me."
   ]
  },
  {
   "cell_type": "markdown",
   "id": "47d2dd7d-adf2-459a-87ff-677295ac10d9",
   "metadata": {},
   "source": [
    "## Chapter 1: Conservation"
   ]
  },
  {
   "cell_type": "code",
   "execution_count": null,
   "id": "829a2982-37e2-4905-875e-34f069f0982f",
   "metadata": {},
   "outputs": [],
   "source": []
  }
 ],
 "metadata": {
  "kernelspec": {
   "display_name": "Python 3 (ipykernel)",
   "language": "python",
   "name": "python3"
  },
  "language_info": {
   "codemirror_mode": {
    "name": "ipython",
    "version": 3
   },
   "file_extension": ".py",
   "mimetype": "text/x-python",
   "name": "python",
   "nbconvert_exporter": "python",
   "pygments_lexer": "ipython3",
   "version": "3.10.8"
  }
 },
 "nbformat": 4,
 "nbformat_minor": 5
}
