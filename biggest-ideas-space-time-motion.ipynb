{
 "cells": [
  {
   "cell_type": "markdown",
   "id": "ecb5cafe-d0e1-49a4-b983-97c9b1488570",
   "metadata": {},
   "source": [
    "# The Biggest Ideas in the Universe: space, time, and motion by Sean Carroll\n",
    "\n",
    "I recently read this book, which I really liked. I felt pretty good about my ability to follow the math in the first half of the book or so, but had a hard time following all of the notation as the book progressed. The concepts seemed to make sense, but the syntax was unfamiliar. So, I thought I'd try to follow through the equations in the book in a way that feels more familiar to me. Maybe writing it out will help me understand it better."
   ]
  },
  {
   "cell_type": "markdown",
   "id": "47d2dd7d-adf2-459a-87ff-677295ac10d9",
   "metadata": {},
   "source": [
    "## Chapter 1: Conservation"
   ]
  },
  {
   "cell_type": "markdown",
   "id": "3adccaf0-4095-47f1-bd1d-41fc8094c93d",
   "metadata": {
    "tags": []
   },
   "source": [
    "### Page 13"
   ]
  },
  {
   "cell_type": "markdown",
   "id": "de1c9f95-7e9e-4e92-95a5-433ff71c127b",
   "metadata": {},
   "source": [
    "Plotting 2D vectors using matplotlib is much less straightforward than I expected\n",
    "\n",
    "references:\n",
    "    https://danielmuellerkomorowska.com/2020/06/19/plotting-2d-vectors-with-matplotlib/\n",
    "    https://www.geeksforgeeks.org/how-to-plot-a-simple-vector-field-in-matplotlib/\n",
    "    https://stackoverflow.com/questions/12265234/how-to-plot-2d-math-vectors-with-matplotlib\n",
    "    https://pythonforundergradengineers.com/quiver-plot-with-matplotlib-and-jupyter-notebooks.html\n",
    "    https://stackoverflow.com/questions/44409084/how-to-zip-two-1d-numpy-array-to-2d-numpy-array"
   ]
  },
  {
   "cell_type": "code",
   "execution_count": 1,
   "id": "96508322-a569-43f8-85e7-b86e4dc3a27c",
   "metadata": {},
   "outputs": [
    {
     "data": {
      "image/png": "[encoded data removed]",
      "text/plain": [
       "<Figure size 640x480 with 1 Axes>"
      ]
     },
     "metadata": {},
     "output_type": "display_data"
    }
   ],
   "source": [
    "import numpy as np\n",
    "import matplotlib.pyplot as plt\n",
    "\n",
    "fig, ax = plt.subplots()\n",
    "\n",
    "#start at 0,0, go to 1,1\n",
    "plt.quiver(0,0,1,1, scale=1)\n",
    "\n",
    "#label the vector\n",
    "ax.text(.5,.7,'v')\n",
    "\n",
    "#setup how the graph should look\n",
    "ax.axis([0,1,0,1])\n",
    "ax.set_aspect('equal')\n",
    "ax.xaxis.set_ticks([])\n",
    "ax.yaxis.set_ticks([])\n",
    "ax.spines[['top', 'right']].set_visible(False)\n",
    "ax.set_xlabel('x')\n",
    "ax.set_ylabel('y')\n",
    "\n",
    "#show the graph\n",
    "plt.show()"
   ]
  },
  {
   "cell_type": "markdown",
   "id": "d77cf437-d95c-4f95-9d2e-fda73c254419",
   "metadata": {},
   "source": [
    "### Page 14"
   ]
  },
  {
   "cell_type": "code",
   "execution_count": 4,
   "id": "fa93d092-fa06-40e8-9822-2866ba82d9dd",
   "metadata": {},
   "outputs": [
    {
     "data": {
      "image/png": "[encoded data removed]",
      "text/plain": [
       "<Figure size 640x480 with 1 Axes>"
      ]
     },
     "metadata": {},
     "output_type": "display_data"
    }
   ],
   "source": [
    "import matplotlib.pyplot as plt\n",
    "import numpy as np\n",
    "\n",
    "vector_v = np.array([0,0,1,3])\n",
    "vector_w = np.array([1,3,2,-1])\n",
    "vectors = np.array([vector_v, vector_w])\n",
    "\n",
    "#this feels gross, but if we just normally sum the two vectors, i.e. \n",
    "#vector_vw = vector_v + vector_w\n",
    "#vector_vw will start at 1,3 like w does, which is not the picture we're trying to make\n",
    "vector_vw = np.array([0,0,vector_v[2] + vector_w[2],vector_v[3] + vector_w[3]])\n",
    "\n",
    "vectors = np.append(vectors, vector_vw[None,:], axis=0)\n",
    "\n",
    "fig, ax = plt.subplots(1)\n",
    "ax.quiver( vectors[:,0],\n",
    "           vectors[:,1],\n",
    "           vectors[:,2],\n",
    "           vectors[:,3],\n",
    "           scale=1,\n",
    "           scale_units='xy',\n",
    "           angles = 'xy',\n",
    "           color=['g', 'r', 'k'])\n",
    "\n",
    "ax.text(.5,2,'v')\n",
    "ax.text(2,2.5,'w')\n",
    "ax.text(2,1,'v+w')\n",
    "\n",
    "ax.set_xlim((-1, vectors[:,0].max()+1))\n",
    "ax.set_ylim((-1, vectors[:,1].max()+1))\n",
    "ax.axis([0,3.5,0,3.5])\n",
    "ax.set_aspect('equal')\n",
    "ax.xaxis.set_ticks([])\n",
    "ax.yaxis.set_ticks([])\n",
    "ax.spines[['top', 'right']].set_visible(False)\n",
    "ax.set_xlabel('x')\n",
    "ax.set_ylabel('y')\n",
    "plt.show()"
   ]
  },
  {
   "cell_type": "code",
   "execution_count": null,
   "id": "cef063d1-8969-459d-8f98-ee4bf5816994",
   "metadata": {},
   "outputs": [],
   "source": []
  }
 ],
 "metadata": {
  "kernelspec": {
   "display_name": "Python 3 (ipykernel)",
   "language": "python",
   "name": "python3"
  },
  "language_info": {
   "codemirror_mode": {
    "name": "ipython",
    "version": 3
   },
   "file_extension": ".py",
   "mimetype": "text/x-python",
   "name": "python",
   "nbconvert_exporter": "python",
   "pygments_lexer": "ipython3",
   "version": "3.10.8"
  }
 },
 "nbformat": 4,
 "nbformat_minor": 5
}
